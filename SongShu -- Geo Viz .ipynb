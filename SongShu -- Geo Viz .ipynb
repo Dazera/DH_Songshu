{
 "cells": [
  {
   "cell_type": "code",
   "execution_count": 1,
   "metadata": {},
   "outputs": [],
   "source": [
    "import json\n",
    "from SongShu import SongShu\n",
    "import re\n",
    "import pandas as pd\n",
    "import altair\n",
    "\n",
    "altair.renderers.enable(\"notebook\")\n",
    "altair.data_transformers.enable('json')"
   ]
  },
  {
   "cell_type": "markdown",
   "metadata": {},
   "source": [
    "# SongShu -- Geo Viz "
   ]
  },
  {
   "cell_type": "code",
   "execution_count": 54,
   "metadata": {},
   "outputs": [
    {
     "data": {
      "text/plain": [
       "[[1, '揚州', '丹陽'],\n",
       " [1, '揚州', '會稽'],\n",
       " [1, '揚州', '吳郡'],\n",
       " [1, '揚州', '吳興'],\n",
       " [1, '揚州', '淮南']]"
      ]
     },
     "execution_count": 54,
     "metadata": {},
     "output_type": "execute_result"
    }
   ],
   "source": [
    "with open(\"SongZhouJun.json\", \"r\", encoding=\"utf-8\") as file:\n",
    "    jun = json.load(file)\n",
    "    \n",
    "jun[:5]"
   ]
  },
  {
   "cell_type": "markdown",
   "metadata": {},
   "source": [
    "## Loading Data"
   ]
  },
  {
   "cell_type": "code",
   "execution_count": 4,
   "metadata": {},
   "outputs": [
    {
     "name": "stdout",
     "output_type": "stream",
     "text": [
      "[Info] Stop at loading data/ShongShu_0851.html.\n",
      "[Info] Total length of the data is 851.\n"
     ]
    }
   ],
   "source": [
    "Songshu = SongShu(date='2018-8-14', creator='Z')\n",
    "Songshu.load_htmls()\n",
    "Songshu.extract_paths()"
   ]
  },
  {
   "cell_type": "code",
   "execution_count": 13,
   "metadata": {},
   "outputs": [],
   "source": [
    "# get all pages for 列傳\n",
    "flat_bodies = []\n",
    "\n",
    "for path,body in zip(Songshu.paths, Songshu.flat_bodies):\n",
    "    if re.search(r\"\\／(列傳)\", path) != None:\n",
    "        flat_bodies.append(body)"
   ]
  },
  {
   "cell_type": "code",
   "execution_count": 16,
   "metadata": {},
   "outputs": [],
   "source": [
    "SongshuLie = SongShu(date='2018-8-14', creator='Z')\n",
    "SongshuLie.flat_bodies = flat_bodies"
   ]
  },
  {
   "cell_type": "markdown",
   "metadata": {},
   "source": [
    "## Writing the HTMLs to Files with HTML Cutoff"
   ]
  },
  {
   "cell_type": "code",
   "execution_count": 22,
   "metadata": {},
   "outputs": [],
   "source": [
    "SongshuLie.bookname = \"SongShuLie\"\n",
    "SongshuLie.write_htmls(html_cutoff=True)"
   ]
  },
  {
   "cell_type": "code",
   "execution_count": 23,
   "metadata": {},
   "outputs": [
    {
     "name": "stdout",
     "output_type": "stream",
     "text": [
      "[Info] Stop at loading data/SongShuLie_0274.html.\n",
      "[Info] Total length of the data is 274.\n"
     ]
    }
   ],
   "source": [
    "# load the files again\n",
    "SongshuLie = SongShu(date='2018-8-14', creator='Z')\n",
    "SongshuLie.bookname = \"SongShuLie\"\n",
    "SongshuLie.load_htmls()\n",
    "SongshuLie.extract_paths()"
   ]
  },
  {
   "cell_type": "code",
   "execution_count": 26,
   "metadata": {},
   "outputs": [],
   "source": [
    "Lie_list = [str(body) for body in SongshuLie.flat_bodies]\n",
    "Lie_str = \"\".join(Lie_list)"
   ]
  },
  {
   "cell_type": "markdown",
   "metadata": {},
   "source": [
    "## Counting the Frequency of Zhou"
   ]
  },
  {
   "cell_type": "code",
   "execution_count": 38,
   "metadata": {},
   "outputs": [
    {
     "data": {
      "text/plain": [
       "[('豫州', 207),\n",
       " ('徐州', 194),\n",
       " ('荊州', 187),\n",
       " ('揚州', 147),\n",
       " ('江州', 128),\n",
       " ('雍州', 125),\n",
       " ('兗州', 124),\n",
       " ('青州', 121),\n",
       " ('廣州', 109),\n",
       " ('郢州', 81),\n",
       " ('湘州', 77),\n",
       " ('司州', 73),\n",
       " ('益州', 64),\n",
       " ('南兗州', 63),\n",
       " ('梁州', 55),\n",
       " ('南徐州', 51),\n",
       " ('冀州', 47),\n",
       " ('秦州', 44),\n",
       " ('南豫州', 42),\n",
       " ('交州', 35),\n",
       " ('寧州', 7),\n",
       " ('越州', 5)]"
      ]
     },
     "execution_count": 38,
     "metadata": {},
     "output_type": "execute_result"
    }
   ],
   "source": [
    "zhou_count_list = []\n",
    "\n",
    "for zhou in set([j[1] for j in jun]):\n",
    "    zhou_count_list.append((zhou, Lie_str.count(zhou)))\n",
    "    \n",
    "zhou_count_list = sorted(zhou_count_list, key=lambda x: x[1], reverse=True)\n",
    "zhou_count_list"
   ]
  },
  {
   "cell_type": "code",
   "execution_count": 47,
   "metadata": {},
   "outputs": [
    {
     "data": {
      "text/html": [
       "<div class=\"vega-embed\" id=\"25701912-3836-4cac-a6ea-6026dc015294\"></div>\n",
       "\n",
       "<style>\n",
       ".vega-embed .error p {\n",
       "    color: firebrick;\n",
       "    font-size: 14px;\n",
       "}\n",
       "</style>\n"
      ]
     },
     "metadata": {
      "jupyter-vega": "#25701912-3836-4cac-a6ea-6026dc015294"
     },
     "output_type": "display_data"
    },
    {
     "data": {
      "application/javascript": [
       "var spec = {\"config\": {\"view\": {\"width\": 400, \"height\": 300}}, \"data\": {\"values\": [{\"zhou\": \"\\u8c6b\\u5dde\", \"count\": 207}, {\"zhou\": \"\\u5f90\\u5dde\", \"count\": 194}, {\"zhou\": \"\\u834a\\u5dde\", \"count\": 187}, {\"zhou\": \"\\u63da\\u5dde\", \"count\": 147}, {\"zhou\": \"\\u6c5f\\u5dde\", \"count\": 128}, {\"zhou\": \"\\u96cd\\u5dde\", \"count\": 125}, {\"zhou\": \"\\u5157\\u5dde\", \"count\": 124}, {\"zhou\": \"\\u9752\\u5dde\", \"count\": 121}, {\"zhou\": \"\\u5ee3\\u5dde\", \"count\": 109}, {\"zhou\": \"\\u90e2\\u5dde\", \"count\": 81}, {\"zhou\": \"\\u6e58\\u5dde\", \"count\": 77}, {\"zhou\": \"\\u53f8\\u5dde\", \"count\": 73}, {\"zhou\": \"\\u76ca\\u5dde\", \"count\": 64}, {\"zhou\": \"\\u5357\\u5157\\u5dde\", \"count\": 63}, {\"zhou\": \"\\u6881\\u5dde\", \"count\": 55}, {\"zhou\": \"\\u5357\\u5f90\\u5dde\", \"count\": 51}, {\"zhou\": \"\\u5180\\u5dde\", \"count\": 47}, {\"zhou\": \"\\u79e6\\u5dde\", \"count\": 44}, {\"zhou\": \"\\u5357\\u8c6b\\u5dde\", \"count\": 42}, {\"zhou\": \"\\u4ea4\\u5dde\", \"count\": 35}, {\"zhou\": \"\\u5be7\\u5dde\", \"count\": 7}, {\"zhou\": \"\\u8d8a\\u5dde\", \"count\": 5}]}, \"mark\": \"bar\", \"encoding\": {\"tooltip\": [{\"type\": \"nominal\", \"field\": \"zhou\"}, {\"type\": \"quantitative\", \"field\": \"count\"}], \"x\": {\"type\": \"nominal\", \"field\": \"zhou\", \"sort\": {\"op\": \"count\"}}, \"y\": {\"type\": \"quantitative\", \"field\": \"count\"}}, \"$schema\": \"https://vega.github.io/schema/vega-lite/v2.4.3.json\"};\n",
       "var opt = {};\n",
       "var selector = \"#25701912-3836-4cac-a6ea-6026dc015294\";\n",
       "var type = \"vega-lite\";\n",
       "\n",
       "var output_area = this;\n",
       "\n",
       "require(['nbextensions/jupyter-vega/index'], function(vega) {\n",
       "  vega.render(selector, spec, type, opt, output_area);\n",
       "}, function (err) {\n",
       "  if (err.requireType !== 'scripterror') {\n",
       "    throw(err);\n",
       "  }\n",
       "});\n"
      ]
     },
     "metadata": {
      "jupyter-vega": "#25701912-3836-4cac-a6ea-6026dc015294"
     },
     "output_type": "display_data"
    },
    {
     "data": {
      "text/plain": []
     },
     "execution_count": 47,
     "metadata": {},
     "output_type": "execute_result"
    },
    {
     "data": {
      "image/png": "[encoded data removed]"
     },
     "metadata": {
      "jupyter-vega": "#25701912-3836-4cac-a6ea-6026dc015294"
     },
     "output_type": "display_data"
    }
   ],
   "source": [
    "data = pd.DataFrame(zhou_count_list, columns=[\"zhou\", \"count\"])\n",
    "\n",
    "altair.Chart(data).mark_bar().encode(\n",
    "    x=altair.X(\"zhou\", sort=altair.SortField(\"count\")),\n",
    "    y=\"count\",\n",
    "    tooltip=[\"zhou\", \"count\"]\n",
    "    \n",
    "    \n",
    "#y=alt.Y('char', sort=alt.SortField(field=\"freq\", op=\"sum\", order=\"descending\")), \n",
    "    \n",
    ")"
   ]
  },
  {
   "cell_type": "code",
   "execution_count": 49,
   "metadata": {},
   "outputs": [
    {
     "data": {
      "text/html": [
       "<div class=\"vega-embed\" id=\"250963b9-99a0-4f9c-9b19-aa15b1ce2af2\"></div>\n",
       "\n",
       "<style>\n",
       ".vega-embed .error p {\n",
       "    color: firebrick;\n",
       "    font-size: 14px;\n",
       "}\n",
       "</style>\n"
      ]
     },
     "metadata": {
      "jupyter-vega": "#250963b9-99a0-4f9c-9b19-aa15b1ce2af2"
     },
     "output_type": "display_data"
    },
    {
     "data": {
      "application/javascript": [
       "var spec = {\"config\": {\"view\": {\"width\": 400, \"height\": 300}}, \"data\": {\"values\": [{\"zhou\": \"\\u8c6b\\u5dde\", \"count\": 207}, {\"zhou\": \"\\u5f90\\u5dde\", \"count\": 194}, {\"zhou\": \"\\u834a\\u5dde\", \"count\": 187}, {\"zhou\": \"\\u63da\\u5dde\", \"count\": 147}, {\"zhou\": \"\\u6c5f\\u5dde\", \"count\": 128}, {\"zhou\": \"\\u96cd\\u5dde\", \"count\": 125}, {\"zhou\": \"\\u5157\\u5dde\", \"count\": 124}, {\"zhou\": \"\\u9752\\u5dde\", \"count\": 121}, {\"zhou\": \"\\u5ee3\\u5dde\", \"count\": 109}, {\"zhou\": \"\\u90e2\\u5dde\", \"count\": 81}, {\"zhou\": \"\\u6e58\\u5dde\", \"count\": 77}, {\"zhou\": \"\\u53f8\\u5dde\", \"count\": 73}, {\"zhou\": \"\\u76ca\\u5dde\", \"count\": 64}, {\"zhou\": \"\\u5357\\u5157\\u5dde\", \"count\": 63}, {\"zhou\": \"\\u6881\\u5dde\", \"count\": 55}, {\"zhou\": \"\\u5357\\u5f90\\u5dde\", \"count\": 51}, {\"zhou\": \"\\u5180\\u5dde\", \"count\": 47}, {\"zhou\": \"\\u79e6\\u5dde\", \"count\": 44}, {\"zhou\": \"\\u5357\\u8c6b\\u5dde\", \"count\": 42}, {\"zhou\": \"\\u4ea4\\u5dde\", \"count\": 35}, {\"zhou\": \"\\u5be7\\u5dde\", \"count\": 7}, {\"zhou\": \"\\u8d8a\\u5dde\", \"count\": 5}]}, \"mark\": \"tick\", \"encoding\": {\"tooltip\": [{\"type\": \"nominal\", \"field\": \"zhou\"}, {\"type\": \"quantitative\", \"field\": \"count\"}], \"y\": {\"type\": \"quantitative\", \"field\": \"count\"}}, \"$schema\": \"https://vega.github.io/schema/vega-lite/v2.4.3.json\"};\n",
       "var opt = {};\n",
       "var selector = \"#250963b9-99a0-4f9c-9b19-aa15b1ce2af2\";\n",
       "var type = \"vega-lite\";\n",
       "\n",
       "var output_area = this;\n",
       "\n",
       "require(['nbextensions/jupyter-vega/index'], function(vega) {\n",
       "  vega.render(selector, spec, type, opt, output_area);\n",
       "}, function (err) {\n",
       "  if (err.requireType !== 'scripterror') {\n",
       "    throw(err);\n",
       "  }\n",
       "});\n"
      ]
     },
     "metadata": {
      "jupyter-vega": "#250963b9-99a0-4f9c-9b19-aa15b1ce2af2"
     },
     "output_type": "display_data"
    },
    {
     "data": {
      "text/plain": []
     },
     "execution_count": 49,
     "metadata": {},
     "output_type": "execute_result"
    },
    {
     "data": {
      "image/png": "[encoded data removed]"
     },
     "metadata": {
      "jupyter-vega": "#250963b9-99a0-4f9c-9b19-aa15b1ce2af2"
     },
     "output_type": "display_data"
    }
   ],
   "source": [
    "altair.Chart(data).mark_tick().encode(\n",
    "#x=altair.X(\"zhou\", sort=altair.SortField(\"count\")),\n",
    "    y=\"count\",\n",
    "    tooltip=[\"zhou\", \"count\"]\n",
    "    \n",
    "    \n",
    "#y=alt.Y('char', sort=alt.SortField(field=\"freq\", op=\"sum\", order=\"descending\")), \n",
    "    \n",
    ")"
   ]
  },
  {
   "cell_type": "markdown",
   "metadata": {},
   "source": [
    "## Counting the Frequency of Jun"
   ]
  },
  {
   "cell_type": "code",
   "execution_count": 57,
   "metadata": {
    "scrolled": false
   },
   "outputs": [
    {
     "data": {
      "text/plain": [
       "[('彭城', 242), ('江夏', 172), ('會稽', 165), ('琅邪', 119), ('竟陵', 116)]"
      ]
     },
     "execution_count": 57,
     "metadata": {},
     "output_type": "execute_result"
    }
   ],
   "source": [
    "jun_count_list = []\n",
    "\n",
    "for com in set([j[2] for j in jun]):\n",
    "    jun_count_list.append((com, Lie_str.count(com)))\n",
    "    \n",
    "jun_count_list = sorted(jun_count_list, key=lambda x: x[1], reverse=True)\n",
    "jun_count_list[:5]"
   ]
  },
  {
   "cell_type": "markdown",
   "metadata": {},
   "source": [
    "## Biography"
   ]
  },
  {
   "cell_type": "code",
   "execution_count": 62,
   "metadata": {},
   "outputs": [
    {
     "data": {
      "text/plain": [
       "274"
      ]
     },
     "execution_count": 62,
     "metadata": {},
     "output_type": "execute_result"
    }
   ],
   "source": [
    "len(zhou_count_each_bio_list)"
   ]
  },
  {
   "cell_type": "code",
   "execution_count": 93,
   "metadata": {},
   "outputs": [],
   "source": [
    "def count_zhou(zhou):\n",
    "    \n",
    "    zhou_count_each_bio_list_Yu = []\n",
    "\n",
    "    for i,(body,path) in enumerate(zip(SongshuLie.flat_bodies, SongshuLie.paths)):\n",
    "        zhou_count_each_bio_list_Yu.append((i, path, str(body).count(zhou)))\n",
    "        \n",
    "    return zhou_count_each_bio_list_Yu\n",
    "    \n",
    "every_zhou_count_each_bio_list = [(count_zhou(zhou), zhou) for zhou in set(j[1] for j in jun)]"
   ]
  },
  {
   "cell_type": "code",
   "execution_count": 97,
   "metadata": {},
   "outputs": [],
   "source": [
    "def make_dataframe(zhou_count_each_bio_list, name):\n",
    "    data = pd.DataFrame(zhou_count_each_bio_list, columns=[\"index\", \"path\", \"count\"])\n",
    "    data[\"category\"] = name\n",
    "    return  data\n",
    "\n",
    "data = pd.concat([\n",
    "    make_dataframe(zhou_count_each_bio_list[0], zhou_count_each_bio_list[1])\n",
    "    for zhou_count_each_bio_list in every_zhou_count_each_bio_list\n",
    "])"
   ]
  },
  {
   "cell_type": "code",
   "execution_count": 112,
   "metadata": {},
   "outputs": [
    {
     "data": {
      "text/html": [
       "<div class=\"vega-embed\" id=\"7b96c4ab-80a5-42de-a267-5116f65915a1\"></div>\n",
       "\n",
       "<style>\n",
       ".vega-embed .error p {\n",
       "    color: firebrick;\n",
       "    font-size: 14px;\n",
       "}\n",
       "</style>\n"
      ]
     },
     "metadata": {
      "jupyter-vega": "#7b96c4ab-80a5-42de-a267-5116f65915a1"
     },
     "output_type": "display_data"
    },
    {
     "data": {
      "application/javascript": [
       "var spec = {\"config\": {\"view\": {\"width\": 400, \"height\": 300}}, \"data\": {\"url\": \"altair-data-ed9aaf6dd90dcaef7bb568625490202e.json\", \"format\": {\"type\": \"json\"}}, \"mark\": \"tick\", \"encoding\": {\"color\": {\"type\": \"quantitative\", \"bin\": true, \"field\": \"count\", \"scale\": {\"range\": [\"white\", \"red\"]}}, \"tooltip\": [{\"type\": \"nominal\", \"field\": \"path\"}, {\"type\": \"quantitative\", \"field\": \"count\"}], \"x\": {\"type\": \"quantitative\", \"field\": \"index\"}, \"y\": {\"type\": \"nominal\", \"field\": \"category\"}}, \"selection\": {\"selector013\": {\"type\": \"interval\", \"bind\": \"scales\", \"encodings\": [\"x\", \"y\"]}}, \"$schema\": \"https://vega.github.io/schema/vega-lite/v2.4.3.json\"};\n",
       "var opt = {};\n",
       "var selector = \"#7b96c4ab-80a5-42de-a267-5116f65915a1\";\n",
       "var type = \"vega-lite\";\n",
       "\n",
       "var output_area = this;\n",
       "\n",
       "require(['nbextensions/jupyter-vega/index'], function(vega) {\n",
       "  vega.render(selector, spec, type, opt, output_area);\n",
       "}, function (err) {\n",
       "  if (err.requireType !== 'scripterror') {\n",
       "    throw(err);\n",
       "  }\n",
       "});\n"
      ]
     },
     "metadata": {
      "jupyter-vega": "#7b96c4ab-80a5-42de-a267-5116f65915a1"
     },
     "output_type": "display_data"
    },
    {
     "data": {
      "text/plain": []
     },
     "execution_count": 112,
     "metadata": {},
     "output_type": "execute_result"
    },
    {
     "data": {
      "image/png": "[encoded data removed]"
     },
     "metadata": {
      "jupyter-vega": "#7b96c4ab-80a5-42de-a267-5116f65915a1"
     },
     "output_type": "display_data"
    }
   ],
   "source": [
    "altair.Chart(data).mark_tick().encode(\n",
    "    y=\"category\",\n",
    "    x=\"index\",\n",
    "    color=altair.Color(\"count\", scale=altair.Scale(range=[\"white\", \"red\"]), bin=True),\n",
    "    tooltip=[\"path\", \"count\"]    \n",
    ").interactive()"
   ]
  }
 ],
 "metadata": {
  "hide_input": false,
  "kernelspec": {
   "display_name": "Python 3",
   "language": "python",
   "name": "python3"
  },
  "language_info": {
   "codemirror_mode": {
    "name": "ipython",
    "version": 3
   },
   "file_extension": ".py",
   "mimetype": "text/x-python",
   "name": "python",
   "nbconvert_exporter": "python",
   "pygments_lexer": "ipython3",
   "version": "3.6.1"
  }
 },
 "nbformat": 4,
 "nbformat_minor": 2
}
